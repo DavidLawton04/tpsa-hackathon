{
 "cells": [
  {
   "cell_type": "code",
   "execution_count": 27,
   "metadata": {},
   "outputs": [],
   "source": [
    "import pandas as pd\n",
    "import geopandas as gpd\n",
    "from shapely.geometry import Point"
   ]
  },
  {
   "cell_type": "code",
   "execution_count": 3,
   "metadata": {},
   "outputs": [],
   "source": [
    "df1 = pd.read_csv('data/passenger_journey.csv')"
   ]
  },
  {
   "cell_type": "code",
   "execution_count": 42,
   "metadata": {},
   "outputs": [
    {
     "name": "stderr",
     "output_type": "stream",
     "text": [
      "/home/alvaro/.local/lib/python3.12/site-packages/pyproj/crs/crs.py:141: FutureWarning: '+init=<authority>:<code>' syntax is deprecated. '<authority>:<code>' is the preferred initialization method. When making the change, be mindful of axis order changes: https://pyproj4.github.io/pyproj/stable/gotchas.html#axis-order-changes-in-proj-6\n",
      "  in_crs_string = _prepare_from_proj_string(in_crs_string)\n"
     ]
    }
   ],
   "source": [
    "gdf1 = gpd.read_file(\"data/stops.geojson\")\n",
    "geometry = gpd.points_from_xy(gdf1['Longitude'], gdf1['Latitude'])\n",
    "gdf = gpd.GeoDataFrame(gdf1, geometry=geometry)\n",
    "gdf = gdf.to_crs({'init': 'EPSG:29902'})\n",
    "gdf.dropna(subset = [\"AtcoCode\"], inplace=True)\n",
    "gdf = gdf.drop(columns = [\"PlateCode\", \"SCN_Gaeilge\", \"Bearing\", \"NptgLocalityRef\", \"PtBayCount\", \"StandingArea\", \"BikeStand\", \"Bench\", \"Bin\", \"StopAccessibility\", \"WheelchairAccessibility\", \"CastleKerbing\", \"StepAtStop\", \"BikeLaneFront\", \"BikeLaneRear\", \"UD_Surveyor\", \"UD_Calculated\", \"IsSurveyed\", \"FootpathToStop\"])"
   ]
  },
  {
   "cell_type": "markdown",
   "metadata": {},
   "source": [
    "- AtcoCode is identifying code\n",
    "- SCN is name of stop\n",
    "- StopType says if marked (MKD) or custom (CUS)"
   ]
  },
  {
   "cell_type": "code",
   "execution_count": 44,
   "metadata": {},
   "outputs": [
    {
     "data": {
      "text/html": [
       "<div>\n",
       "<style scoped>\n",
       "    .dataframe tbody tr th:only-of-type {\n",
       "        vertical-align: middle;\n",
       "    }\n",
       "\n",
       "    .dataframe tbody tr th {\n",
       "        vertical-align: top;\n",
       "    }\n",
       "\n",
       "    .dataframe thead th {\n",
       "        text-align: right;\n",
       "    }\n",
       "</style>\n",
       "<table border=\"1\" class=\"dataframe\">\n",
       "  <thead>\n",
       "    <tr style=\"text-align: right;\">\n",
       "      <th></th>\n",
       "      <th>PtStopId</th>\n",
       "      <th>AtcoCode</th>\n",
       "      <th>SCN_English</th>\n",
       "      <th>StopType</th>\n",
       "      <th>TransportMode</th>\n",
       "      <th>Latitude</th>\n",
       "      <th>Longitude</th>\n",
       "      <th>geometry</th>\n",
       "    </tr>\n",
       "  </thead>\n",
       "  <tbody>\n",
       "    <tr>\n",
       "      <th>0</th>\n",
       "      <td>2</td>\n",
       "      <td>702000000240</td>\n",
       "      <td>Europa Bus Centre</td>\n",
       "      <td>MKD</td>\n",
       "      <td>Bus</td>\n",
       "      <td>54.594593</td>\n",
       "      <td>-5.936601</td>\n",
       "      <td>POINT (333417.077 373773.869)</td>\n",
       "    </tr>\n",
       "    <tr>\n",
       "      <th>1</th>\n",
       "      <td>3</td>\n",
       "      <td>702000015363</td>\n",
       "      <td>Europa Bus Centre</td>\n",
       "      <td>MKD</td>\n",
       "      <td>Bus</td>\n",
       "      <td>54.594484</td>\n",
       "      <td>-5.93656</td>\n",
       "      <td>POINT (333420.083 373761.815)</td>\n",
       "    </tr>\n",
       "    <tr>\n",
       "      <th>2</th>\n",
       "      <td>4</td>\n",
       "      <td>702000015422</td>\n",
       "      <td>Europa Bus Centre</td>\n",
       "      <td>MKD</td>\n",
       "      <td>Bus</td>\n",
       "      <td>54.595054</td>\n",
       "      <td>-5.936268</td>\n",
       "      <td>POINT (333437.09 373825.808)</td>\n",
       "    </tr>\n",
       "    <tr>\n",
       "      <th>3</th>\n",
       "      <td>5</td>\n",
       "      <td>703000004183</td>\n",
       "      <td>Banbridge</td>\n",
       "      <td>MKD</td>\n",
       "      <td>Bus</td>\n",
       "      <td>54.346455</td>\n",
       "      <td>-6.271543</td>\n",
       "      <td>POINT (312448.712 345571.632)</td>\n",
       "    </tr>\n",
       "    <tr>\n",
       "      <th>4</th>\n",
       "      <td>6</td>\n",
       "      <td>7050B141561</td>\n",
       "      <td>Derrylin</td>\n",
       "      <td>CUS</td>\n",
       "      <td>Bus</td>\n",
       "      <td>54.191678</td>\n",
       "      <td>-7.565736</td>\n",
       "      <td>POINT (228395.742 327051.679)</td>\n",
       "    </tr>\n",
       "  </tbody>\n",
       "</table>\n",
       "</div>"
      ],
      "text/plain": [
       "  PtStopId      AtcoCode        SCN_English StopType TransportMode   Latitude  \\\n",
       "0        2  702000000240  Europa Bus Centre      MKD           Bus  54.594593   \n",
       "1        3  702000015363  Europa Bus Centre      MKD           Bus  54.594484   \n",
       "2        4  702000015422  Europa Bus Centre      MKD           Bus  54.595054   \n",
       "3        5  703000004183          Banbridge      MKD           Bus  54.346455   \n",
       "4        6   7050B141561           Derrylin      CUS           Bus  54.191678   \n",
       "\n",
       "   Longitude                       geometry  \n",
       "0  -5.936601  POINT (333417.077 373773.869)  \n",
       "1   -5.93656  POINT (333420.083 373761.815)  \n",
       "2  -5.936268   POINT (333437.09 373825.808)  \n",
       "3  -6.271543  POINT (312448.712 345571.632)  \n",
       "4  -7.565736  POINT (228395.742 327051.679)  "
      ]
     },
     "execution_count": 44,
     "metadata": {},
     "output_type": "execute_result"
    }
   ],
   "source": [
    "gdf.head()"
   ]
  },
  {
   "cell_type": "code",
   "execution_count": 5,
   "metadata": {},
   "outputs": [
    {
     "data": {
      "text/plain": [
       "Mode of Transport\n",
       "Dublin Metro Bus                        290\n",
       "Bus, excluding Dublin Metro             290\n",
       "Rail                                    290\n",
       "All public transport, excluding LUAS    290\n",
       "Name: count, dtype: int64"
      ]
     },
     "execution_count": 5,
     "metadata": {},
     "output_type": "execute_result"
    }
   ],
   "source": [
    "df1[\"Mode of Transport\"].value_counts()"
   ]
  }
 ],
 "metadata": {
  "kernelspec": {
   "display_name": "Python 3",
   "language": "python",
   "name": "python3"
  },
  "language_info": {
   "codemirror_mode": {
    "name": "ipython",
    "version": 3
   },
   "file_extension": ".py",
   "mimetype": "text/x-python",
   "name": "python",
   "nbconvert_exporter": "python",
   "pygments_lexer": "ipython3",
   "version": "3.12.5"
  }
 },
 "nbformat": 4,
 "nbformat_minor": 2
}
